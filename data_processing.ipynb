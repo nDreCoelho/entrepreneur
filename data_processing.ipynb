{
 "metadata": {
  "language_info": {
   "codemirror_mode": {
    "name": "ipython",
    "version": 3
   },
   "file_extension": ".py",
   "mimetype": "text/x-python",
   "name": "python",
   "nbconvert_exporter": "python",
   "pygments_lexer": "ipython3",
   "version": "3.8.5"
  },
  "orig_nbformat": 2,
  "kernelspec": {
   "name": "python385jvsc74a57bd06d46af94c2bbce495f1e668725902fa517c90b1782bcfe2fce0dd9868df553d3",
   "display_name": "Python 3.8.5 64-bit ('base': conda)"
  }
 },
 "nbformat": 4,
 "nbformat_minor": 2,
 "cells": [
  {
   "source": [
    "# Importing Relevant Packages"
   ],
   "cell_type": "markdown",
   "metadata": {}
  },
  {
   "cell_type": "code",
   "execution_count": null,
   "metadata": {},
   "outputs": [],
   "source": [
    "import numpy as np\n",
    "import pandas as pd \n",
    "import matplotlib as mpl\n",
    "import matplotlib.pyplot as plt \n",
    "import squarify as sqrf\n",
    "import seaborn as sns \n",
    "sns.set()"
   ]
  },
  {
   "source": [
    "set colourmap\n"
   ],
   "cell_type": "markdown",
   "metadata": {}
  },
  {
   "cell_type": "code",
   "execution_count": null,
   "metadata": {},
   "outputs": [],
   "source": [
    "my_values=[i for i in range(1,20)]\n",
    "my_values.reverse()\n",
    "cmap = mpl.cm.Blues\n",
    "mini=min(my_values)\n",
    "maxi=max(my_values)\n",
    "norm = mpl.colors.Normalize(vmin=mini, vmax=maxi)\n",
    "colors = [cmap(norm(value)) for value in my_values]"
   ]
  },
  {
   "source": [
    "# Reading and Allocating Data"
   ],
   "cell_type": "markdown",
   "metadata": {}
  },
  {
   "cell_type": "code",
   "execution_count": null,
   "metadata": {},
   "outputs": [],
   "source": [
    "id=pd.read_csv(r'path',';')\n",
    "ist=pd.read_csv(r'path',';')\n",
    "comp=pd.read_csv(r'path',';')\n",
    "df_id=id.copy()\n",
    "df_ist=ist.copy()\n",
    "df_comp=comp.copy()"
   ]
  },
  {
   "cell_type": "code",
   "execution_count": null,
   "metadata": {},
   "outputs": [],
   "source": [
    "df_id.head()"
   ]
  },
  {
   "cell_type": "code",
   "execution_count": null,
   "metadata": {},
   "outputs": [],
   "source": [
    "df_comp.head()"
   ]
  },
  {
   "cell_type": "code",
   "execution_count": null,
   "metadata": {},
   "outputs": [],
   "source": [
    "df_ist.head()"
   ]
  },
  {
   "cell_type": "code",
   "execution_count": null,
   "metadata": {},
   "outputs": [],
   "source": [
    "#to certify that all the companies are unique\n",
    "money_df=df_comp[['ano_fundacao','princ_activity','market','employees','revenue','imports','exports']].copy()\n",
    "money_df.value_counts()"
   ]
  },
  {
   "source": [
    "# Total Money Involved"
   ],
   "cell_type": "markdown",
   "metadata": {}
  },
  {
   "cell_type": "code",
   "execution_count": null,
   "metadata": {},
   "outputs": [],
   "source": [
    "total_revenue=df_comp['revenue'].sum()\n",
    "total_exports=df_comp['exports'].sum()\n",
    "total_imports=df_comp['imports'].sum()\n",
    "\n",
    "print('Total Revenue=',total_revenue,'\\nTotal Exports=',total_exports,'\\nTotal Imports=',total_imports)"
   ]
  },
  {
   "source": [
    "# Gender"
   ],
   "cell_type": "markdown",
   "metadata": {}
  },
  {
   "cell_type": "code",
   "execution_count": null,
   "metadata": {},
   "outputs": [],
   "source": [
    "times_male=0\n",
    "times_female=0\n",
    "for i in df_id['Sexo']:\n",
    "    if i=='Male':\n",
    "        times_male+=1\n",
    "    else:\n",
    "        times_female+=1\n",
    "\n",
    "percentage_male=times_male/(times_male+times_female)*100\n",
    "percentage_female=times_female/(times_female+times_male)*100\n",
    "percentage_male=round(percentage_male,2)\n",
    "percentage_female=round(percentage_female,2)\n",
    "print(f'The percentage of male entrepreneurs is:{percentage_male}%\\nThe percentage of female entrepreneurs is:{percentage_female}%')"
   ]
  },
  {
   "source": [
    "# Resilience and Serial Entrepreneur"
   ],
   "cell_type": "markdown",
   "metadata": {}
  },
  {
   "cell_type": "code",
   "execution_count": null,
   "metadata": {},
   "outputs": [],
   "source": [
    "times_resilience=0\n",
    "times_serial_entrepreneur=0\n",
    "times_quiter=0\n",
    "for j in range(len(df_id)):\n",
    "    if df_id['empresas_criadas'][j]>df_id['empresas_ativas'][j]:\n",
    "        times_resilience+=1\n",
    "    if df_id['empresas_criadas'][j]>2:\n",
    "        times_serial_entrepreneur+=1\n",
    "    if df_id['empresas_ativas'][j]==0:\n",
    "        times_quiter+=1\n",
    "\n",
    "times_resilience, times_serial_entrepreneur,times_quiter\n",
    "percentage_resil=round(times_resilience/len(df_id)*100,2)\n",
    "percentage_quiter=round(times_quiter/len(df_id)*100,2)\n",
    "percentage_serial=round(times_serial_entrepreneur/len(df_id)*100,2)\n",
    "percentage_resil,percentage_quiter,percentage_serial"
   ]
  },
  {
   "cell_type": "code",
   "execution_count": null,
   "metadata": {},
   "outputs": [],
   "source": [
    "df_id['empresas_ativas'].value_counts()"
   ]
  },
  {
   "cell_type": "code",
   "execution_count": null,
   "metadata": {},
   "outputs": [],
   "source": [
    "df_id['empresas_criadas'].value_counts()"
   ]
  },
  {
   "source": [
    "# Maturity"
   ],
   "cell_type": "markdown",
   "metadata": {}
  },
  {
   "cell_type": "code",
   "execution_count": null,
   "metadata": {},
   "outputs": [],
   "source": [
    "df_mat=df_comp.copy()\n",
    "df_mat['conc_curso']=''\n",
    "df_mat.head()"
   ]
  },
  {
   "cell_type": "code",
   "execution_count": null,
   "metadata": {},
   "outputs": [],
   "source": [
    "for m in range(len(df_mat)):\n",
    "    for k in range(len(df_id)):\n",
    "        if df_mat['id_pessoa'][m]==df_id['id_pessoa'][k]:\n",
    "            df_mat['conc_curso'][m]=df_id['ano_conclusao'][k]\n",
    "\n",
    "df_mat"
   ]
  },
  {
   "cell_type": "code",
   "execution_count": null,
   "metadata": {},
   "outputs": [],
   "source": [
    "df_mat['maturity']=df_mat['ano_fundacao']-df_mat['conc_curso']\n",
    "for i in range(len(df_mat)):\n",
    "    if df_mat['maturity'][i]<0:\n",
    "        df_mat['maturity'][i]=0\n",
    "df_mat.head()"
   ]
  },
  {
   "cell_type": "code",
   "execution_count": null,
   "metadata": {},
   "outputs": [],
   "source": [
    "avg_maturity=round(df_mat['maturity'].mean(),2)\n",
    "print('The average maturity of an entrepreneur is:',avg_maturity)"
   ]
  },
  {
   "source": [
    "### Maturity vs Revenue"
   ],
   "cell_type": "markdown",
   "metadata": {}
  },
  {
   "cell_type": "code",
   "execution_count": null,
   "metadata": {},
   "outputs": [],
   "source": [
    "df_matrev=df_mat[['maturity','revenue']]\n",
    "df_matrev.head()"
   ]
  },
  {
   "cell_type": "code",
   "execution_count": null,
   "metadata": {},
   "outputs": [],
   "source": [
    "df_matrev.groupby('maturity').count().plot.bar()"
   ]
  },
  {
   "cell_type": "code",
   "execution_count": null,
   "metadata": {},
   "outputs": [],
   "source": [
    "df_matrev['maturity'].hist(bins=10)\n",
    "#plt.suptitle('Histogram of Maturity')\n",
    "plt.xlabel('Years to create a company after graduation')\n",
    "plt.ylabel('Frequency')"
   ]
  },
  {
   "cell_type": "code",
   "execution_count": null,
   "metadata": {},
   "outputs": [],
   "source": [
    "zero_three=0\n",
    "four_seven=0\n",
    "eight_eleven=0\n",
    "twelve_fifteen=0\n",
    "sixteen_nineteen=0\n",
    "twenty_twentythree=0\n",
    "twentyfour_twentyseven=0\n",
    "twentyeight_thirtyone=0\n",
    "\n",
    "for n in range(len(df_matrev)):\n",
    "#0-3\n",
    "    if df_matrev['maturity'][n]>=0 and df_matrev['maturity'][n]<4:\n",
    "\n",
    "        zero_three += df_matrev['revenue'][n]\n",
    "#4-7\n",
    "    elif df_matrev['maturity'][n]>=4 and df_matrev['maturity'][n]<8:\n",
    "\n",
    "        four_seven += df_matrev['revenue'][n]\n",
    "#8-11\n",
    "    elif df_matrev['maturity'][n]>=8 and df_matrev['maturity'][n]<12:\n",
    "\n",
    "        eight_eleven += df_matrev['revenue'][n]\n",
    "#12-15\n",
    "    elif df_matrev['maturity'][n]>=12 and df_matrev['maturity'][n]<16:\n",
    "\n",
    "        twelve_fifteen += df_matrev['revenue'][n] \n",
    "#16-19\n",
    "    elif df_matrev['maturity'][n]>=16 and df_matrev['maturity'][n]<20:\n",
    "\n",
    "        sixteen_nineteen += df_matrev['revenue'][n]    \n",
    "#20-23\n",
    "    elif df_matrev['maturity'][n]>=20 and df_matrev['maturity'][n]<24:\n",
    "\n",
    "        twenty_twentythree += df_matrev['revenue'][n] \n",
    "#24-27\n",
    "    elif df_matrev['maturity'][n]>=24 and df_matrev['maturity'][n]<28:\n",
    "\n",
    "        twentyfour_twentyseven += df_matrev['revenue'][n]  \n",
    "#24-27\n",
    "    elif df_matrev['maturity'][n]>=28 and df_matrev['maturity'][n]<32:\n",
    "\n",
    "        twentyeight_thirtyone += df_matrev['revenue'][n] \n",
    "rev_by_mat=[zero_three,four_seven,eight_eleven,twelve_fifteen,sixteen_nineteen,twenty_twentythree,twentyfour_twentyseven,twentyeight_thirtyone]\n",
    "rev_by_mat_labels=['0-3','4-7','8-11','12-15','16-19','20-23','24-27','28-31']\n",
    "\n"
   ]
  },
  {
   "cell_type": "code",
   "execution_count": null,
   "metadata": {},
   "outputs": [],
   "source": [
    "#Para por em milhares de euros\n",
    "rev_by_mat[:] = [x / 1000 for x in rev_by_mat]\n",
    "rev_by_mat"
   ]
  },
  {
   "cell_type": "code",
   "execution_count": null,
   "metadata": {},
   "outputs": [],
   "source": [
    "#Plotar\n",
    "\n",
    "fig = plt.gcf()\n",
    "ax = fig.add_subplot()\n",
    "fig.set_size_inches(9, 6)\n",
    "\n",
    "plt.bar(rev_by_mat_labels,rev_by_mat,width=1)\n",
    "plt.ylabel(\"Revenue (€1000s)\")\n",
    "plt.xlabel('Years to create a company after graduation')\n",
    "\n",
    "# Make some labels.\n",
    "data_labels=['','','','','','','','']\n",
    "for i in range(len(data_labels)):\n",
    "    data_labels[i]=str(rev_by_mat[i])\n",
    "\n",
    "rects = ax.patches\n",
    "\n",
    "for rect, label in zip(rects, data_labels):\n",
    "    height = rect.get_height()\n",
    "    ax.text(rect.get_x() + rect.get_width() / 2, height + 5, label,\n",
    "            ha='center', va='bottom')\n",
    "plt.gcf().axes[0].yaxis.get_major_formatter().set_scientific(False)\n",
    "plt.show()"
   ]
  },
  {
   "source": [
    "# Time in the market vs Revenue"
   ],
   "cell_type": "markdown",
   "metadata": {}
  },
  {
   "cell_type": "code",
   "execution_count": null,
   "metadata": {},
   "outputs": [],
   "source": [
    "df_tm=df_comp[['revenue']].copy()\n",
    "df_tm['time_market']=2020-df_comp['ano_fundacao']\n",
    "df_tm.head()"
   ]
  },
  {
   "cell_type": "code",
   "execution_count": null,
   "metadata": {},
   "outputs": [],
   "source": [
    "frequency_time=df_tm['time_market'].value_counts()\n",
    "frequency_time,frequency_time.sum()"
   ]
  },
  {
   "cell_type": "code",
   "execution_count": null,
   "metadata": {},
   "outputs": [],
   "source": [
    "until_four=0 #creating the intervals for plots regarding the number of companies in such interval and pairing with their \n",
    "revenue_until_four=0\n",
    "\n",
    "until_nine=0\n",
    "revenue_until_nine=0\n",
    "\n",
    "until_fourteen=0\n",
    "revenue_until_fourteen=0\n",
    "\n",
    "until_nineteen=0\n",
    "revenue_until_nineteen=0\n",
    "\n",
    "until_twentyfour=0\n",
    "revenue_until_twentyfour=0\n",
    "\n",
    "until_twentynine=0\n",
    "revenue_until_twentynine=0\n",
    "\n",
    "until_thirtyfour=0\n",
    "revenue_until_thirtyfour=0\n",
    "\n",
    "until_thirtynine=0\n",
    "revenue_until_thirtynine=0\n",
    "\n",
    "for i in range(len(df_tm)):\n",
    "    if df_tm['time_market'][i]<=4: #until 4\n",
    "        until_four+=1\n",
    "        revenue_until_four+=df_tm['revenue'][i]\n",
    "\n",
    "    elif df_tm['time_market'][i]>4 and df_tm['time_market'][i]<=9:  #until 9\n",
    "        until_nine+=1\n",
    "        revenue_until_nine+=df_tm['revenue'][i]\n",
    "\n",
    "    elif df_tm['time_market'][i]>9 and df_tm['time_market'][i]<=14: #until 14\n",
    "        until_fourteen+=1\n",
    "        revenue_until_fourteen+=df_tm['revenue'][i]\n",
    "\n",
    "    elif df_tm['time_market'][i]>14 and df_tm['time_market'][i]<=19: # until 19\n",
    "        until_nineteen+=1\n",
    "        revenue_until_nineteen+=df_tm['revenue'][i]\n",
    "\n",
    "    elif df_tm['time_market'][i]>19 and df_tm['time_market'][i]<=24: # until 24\n",
    "        until_twentyfour+=1\n",
    "        revenue_until_twentyfour+=df_tm['revenue'][i]\n",
    "\n",
    "    elif df_tm['time_market'][i]>24 and df_tm['time_market'][i]<=29: # until 29\n",
    "        until_twentynine+=1\n",
    "        revenue_until_twentynine+=df_tm['revenue'][i]\n",
    "\n",
    "    elif df_tm['time_market'][i]>29 and df_tm['time_market'][i]<=34: # until 34\n",
    "        until_thirtyfour+=1\n",
    "        revenue_until_thirtyfour+=df_tm['revenue'][i]\n",
    "\n",
    "    elif df_tm['time_market'][i]>34 and df_tm['time_market'][i]<=39: # until 39\n",
    "        until_thirtynine+=1\n",
    "        revenue_until_thirtynine+=df_tm['revenue'][i]\n",
    "\n"
   ]
  },
  {
   "cell_type": "code",
   "execution_count": null,
   "metadata": {},
   "outputs": [],
   "source": [
    "ttime_market=[until_four,until_nine,until_fourteen,until_nineteen, until_twentyfour, until_twentynine,until_thirtyfour,until_thirtynine]\n",
    "\n",
    "total_companies_time=sum(ttime_market)\n",
    "\n",
    "percentage_time_market=[x / total_companies_time *100 for x in ttime_market]\n",
    "\n",
    "revenue_time_market=[revenue_until_four,revenue_until_nine,revenue_until_fourteen,revenue_until_nineteen,revenue_until_twentyfour,revenue_until_twentynine,revenue_until_thirtyfour,revenue_until_thirtynine]\n",
    "mil=1000\n",
    "\n",
    "revenue_time_market[:] = [x / mil for x in revenue_time_market]\n",
    "\n",
    "average_revenue_time_market=[b/m for b,m in zip(revenue_time_market,ttime_market)]\n",
    "\n",
    "df_time=pd.DataFrame({'Companies (%)':percentage_time_market,\n",
    "                        'Revenue  (1000s)':revenue_time_market,\n",
    "                        'Average Revenue (00s)':average_revenue_time_market},\n",
    "                        index=['Until 4','5-9','10-14','15-19','20-24','24-29','30-34','35-39'])\n",
    "df_time.columns.names=['Years in the Market']"
   ]
  },
  {
   "cell_type": "code",
   "execution_count": null,
   "metadata": {},
   "outputs": [],
   "source": [
    "df_time=round(df_time,2)\n",
    "df_time"
   ]
  },
  {
   "cell_type": "code",
   "execution_count": null,
   "metadata": {},
   "outputs": [],
   "source": [
    "fig = plt.gcf()\n",
    "fig.set_size_inches(9, 6)\n",
    "\n",
    "df_time[['Revenue (€1000s)','Average Revenue (€1000s)']].plot(kind='bar')\n",
    "df_time['Companies (%)'].plot(secondary_y=True)"
   ]
  },
  {
   "source": [
    "# Plot Courses Frequency"
   ],
   "cell_type": "markdown",
   "metadata": {}
  },
  {
   "cell_type": "code",
   "execution_count": null,
   "metadata": {},
   "outputs": [],
   "source": [
    "freq_courses=df_id['Curso'].value_counts()\n",
    "print(freq_courses)"
   ]
  },
  {
   "cell_type": "code",
   "execution_count": null,
   "metadata": {},
   "outputs": [],
   "source": [
    "freq_courses.plot(kind='bar',title='Courses of the Entrepreneurs')\n",
    "plt.show()"
   ]
  },
  {
   "cell_type": "code",
   "execution_count": null,
   "metadata": {},
   "outputs": [],
   "source": [
    "freq_courses.index=['Electrical \\nand Computer Eng.','Computer Science and Eng.','Mechanical Eng.','Civil Eng.','Aerospace Eng.','Chemistry Eng.','Biomedical Eng.','Architecture','Industrial Management \\nand Eng.','Biological Eng.','Eng. Physics','Environmental \\n Eng.','Naval Eng.','Energy Management\\nand Eng.','Applied Maths','Materials Eng.']"
   ]
  },
  {
   "cell_type": "code",
   "execution_count": null,
   "metadata": {},
   "outputs": [],
   "source": [
    "fig = plt.gcf()\n",
    "ax = fig.add_subplot()\n",
    "fig.set_size_inches(18, 10)\n",
    "\n",
    "\n",
    "fig=sqrf.plot(freq_courses,label=freq_courses.index,value=round(freq_courses/freq_courses.sum()*100,2),color=colors,alpha=0.5 )\n",
    "\n",
    "plt.axis('off')\n",
    "plt.show()"
   ]
  },
  {
   "source": [
    "# Plot Principal Activity"
   ],
   "cell_type": "markdown",
   "metadata": {}
  },
  {
   "cell_type": "code",
   "execution_count": null,
   "metadata": {},
   "outputs": [],
   "source": [
    "freq_act=df_comp['princ_activity'].value_counts()\n",
    "print(freq_act)"
   ]
  },
  {
   "cell_type": "code",
   "execution_count": null,
   "metadata": {},
   "outputs": [],
   "source": [
    "fig = plt.gcf()\n",
    "ax = fig.add_subplot()\n",
    "fig.set_size_inches(16, 8)\n",
    "\n",
    "fig=sqrf.plot(freq_act,label=freq_act.index,value=round(freq_act/freq_act.sum()*100,2),color=colors,alpha=0.5 )\n",
    "\n",
    "plt.axis('off')\n",
    "plt.show()"
   ]
  },
  {
   "source": [
    "times_it=0\n",
    "times_consulting=0\n",
    "times_itconsulting=0\n",
    "times_manfin=0\n",
    "times_eng=0\n",
    "times_arch=0\n",
    "times_retail=0\n",
    "times_tourism=0\n",
    "times_entertainment=0\n",
    "times_transp=0\n",
    "times_health=0\n",
    "times_mkt=0\n",
    "times_rd=0\n",
    "times_re=0\n",
    "\n",
    "revenue_it=0\n",
    "revenue_consulting=0\n",
    "revenue_itconsulting=0\n",
    "revenue_manfin=0\n",
    "revenue_eng=0\n",
    "revenue_arch=0\n",
    "revenue_retail=0\n",
    "revenue_tourism=0\n",
    "revenue_entertainment=0\n",
    "revenue_transp=0\n",
    "revenue_health=0\n",
    "revenue_mkt=0\n",
    "revenue_rd=0\n",
    "revenue_re=0\n",
    "\n",
    "exports_it=0\n",
    "exports_consulting=0\n",
    "exports_itconsulting=0\n",
    "exports_manfin=0\n",
    "exports_eng=0\n",
    "exports_arch=0\n",
    "exports_retail=0\n",
    "exports_tourism=0\n",
    "exports_entertainment=0\n",
    "exports_transp=0\n",
    "exports_health=0\n",
    "exports_mkt=0\n",
    "exports_rd=0\n",
    "exports_re=0\n",
    "\n",
    "imports_it=0\n",
    "imports_consulting=0\n",
    "imports_itconsulting=0\n",
    "imports_manfin=0\n",
    "imports_eng=0\n",
    "imports_arch=0\n",
    "imports_retail=0\n",
    "imports_tourism=0\n",
    "imports_entertainment=0\n",
    "imports_transp=0\n",
    "imports_health=0\n",
    "imports_mkt=0\n",
    "imports_rd=0\n",
    "imports_re=0\n",
    "\n",
    "for i in range(len(df_comp)):\n",
    "    if df_comp['princ_activity'][i]=='IT':\n",
    "        times_it+=1\n",
    "        revenue_it+=df_comp['revenue'][i]\n",
    "        exports_it+=df_comp['exports'][i]\n",
    "        imports_it+=df_comp['imports'][i]\n",
    "\n",
    "    elif df_comp['princ_activity'][i]=='Consulting':\n",
    "        times_consulting+=1\n",
    "        revenue_consulting+=df_comp['revenue'][i]\n",
    "        exports_consulting+=df_comp['exports'][i]\n",
    "        imports_consulting+=df_comp['imports'][i]\n",
    "\n",
    "    elif df_comp['princ_activity'][i]=='IT Consulting':\n",
    "        times_itconsulting+=1\n",
    "        revenue_itconsulting+=df_comp['revenue'][i]\n",
    "        exports_itconsulting+=df_comp['exports'][i]\n",
    "        imports_itconsulting+=df_comp['imports'][i]\n",
    "    \n",
    "    elif df_comp['princ_activity'][i]=='Finance & Management':\n",
    "        times_manfin+=1\n",
    "        revenue_manfin+=df_comp['revenue'][i]\n",
    "        exports_manfin+=df_comp['exports'][i]\n",
    "        imports_manfin+=df_comp['imports'][i]\n",
    "\n",
    "    elif df_comp['princ_activity'][i]=='Engineering':\n",
    "        times_eng+=1\n",
    "        revenue_eng+=df_comp['revenue'][i]\n",
    "        exports_eng+=df_comp['exports'][i]\n",
    "        imports_eng+=df_comp['imports'][i]\n",
    "\n",
    "    elif df_comp['princ_activity'][i]=='Architecture':\n",
    "        times_arch+=1\n",
    "        revenue_arch+=df_comp['revenue'][i]\n",
    "        exports_arch+=df_comp['exports'][i]\n",
    "        imports_arch+=df_comp['imports'][i]\n",
    "\n",
    "    elif df_comp['princ_activity'][i]=='Retail':\n",
    "        times_retail+=1\n",
    "        revenue_retail+=df_comp['revenue'][i]\n",
    "        exports_retail+=df_comp['exports'][i]\n",
    "        imports_retail+=df_comp['imports'][i]\n",
    "\n",
    "    elif df_comp['princ_activity'][i]=='Tourism':\n",
    "        times_tourism+=1\n",
    "        revenue_tourism+=df_comp['revenue'][i]\n",
    "        exports_tourism+=df_comp['exports'][i]\n",
    "        imports_tourism+=df_comp['imports'][i]\n",
    "\n",
    "    elif df_comp['princ_activity'][i]=='Entertainment':\n",
    "        times_entertainment+=1\n",
    "        revenue_entertainment+=df_comp['revenue'][i]\n",
    "        exports_entertainment+=df_comp['exports'][i]\n",
    "        imports_entertainment+=df_comp['imports'][i]\n",
    "\n",
    "    elif df_comp['princ_activity'][i]=='Transports':\n",
    "        times_transp+=1\n",
    "        revenue_transp+=df_comp['revenue'][i]\n",
    "        exports_transp+=df_comp['exports'][i]\n",
    "        imports_transp+=df_comp['imports'][i]\n",
    "\n",
    "    elif df_comp['princ_activity'][i]=='Healthcare':\n",
    "        times_health+=1\n",
    "        revenue_health+=df_comp['revenue'][i]\n",
    "        exports_health+=df_comp['exports'][i]\n",
    "        imports_health+=df_comp['imports'][i]\n",
    "\n",
    "    elif df_comp['princ_activity'][i]=='Marketing':\n",
    "        times_mkt+=1\n",
    "        revenue_mkt+=df_comp['revenue'][i]\n",
    "        exports_mkt+=df_comp['exports'][i]\n",
    "        imports_mkt+=df_comp['imports'][i]\n",
    "\n",
    "    elif df_comp['princ_activity'][i]=='R&D':\n",
    "        times_rd+=1\n",
    "        revenue_rd+=df_comp['revenue'][i]\n",
    "        exports_rd+=df_comp['exports'][i]\n",
    "        imports_rd+=df_comp['imports'][i]\n",
    "\n",
    "    elif df_comp['princ_activity'][i]=='Real Estate':\n",
    "        times_re+=1\n",
    "        revenue_re+=df_comp['revenue'][i]\n",
    "        exports_re+=df_comp['exports'][i]\n",
    "        imports_re+=df_comp['imports'][i]\n",
    "\n"
   ],
   "cell_type": "code",
   "metadata": {},
   "execution_count": null,
   "outputs": []
  },
  {
   "cell_type": "code",
   "execution_count": null,
   "metadata": {},
   "outputs": [],
   "source": [
    "# TIMES\n",
    "\n",
    "#array times\n",
    "times_princ_act=[times_it,times_consulting,times_itconsulting,times_manfin,times_eng,times_arch,times_retail,times_tourism,times_entertainment,times_health,times_re,times_transp,times_mkt,times_rd]\n",
    "# total de empresas\n",
    "total_princ_act=sum(times_princ_act)\n",
    "# percentagem das empresas\n",
    "percentage_princ_act=[x / total_princ_act *100 for x in times_princ_act]\n",
    "\n",
    "#total dos percentage\n",
    "total_percentage_princ_act=sum(percentage_princ_act)\n",
    "\n",
    "#appends\n",
    "#companies_princ_act=percentage_princ_act.extend(total_percentage_princ_act)\n",
    "\n",
    "# REVENUE\n",
    "\n",
    "#array revenue\n",
    "revenue_princ_act=[revenue_it,revenue_consulting,revenue_itconsulting,revenue_manfin,revenue_eng,revenue_arch,revenue_retail,revenue_tourism,revenue_entertainment,revenue_health,revenue_re,revenue_transp,revenue_mkt,revenue_rd]\n",
    "\n",
    "# dividir por mil\n",
    "revenue_princ_act[:] = [u / mil for u in revenue_princ_act]\n",
    "\n",
    "#total dos revenues\n",
    "total_revenue_princ_act=sum(revenue_princ_act)\n",
    "\n",
    "# market dominance\n",
    "percentage_revenue_princ_act=[w / total_revenue_princ_act *100 for w in revenue_princ_act]\n",
    "\n",
    "#total dos percentage\n",
    "total_percentage_revenue_princ_act=sum(percentage_revenue_princ_act)\n",
    "\n",
    "#appends\n",
    "#revenue_princ_act=revenue_princ_act.extend(total_revenue_princ_act)\n",
    "#percentage_revenue_princ_activity=percentage_revenue_princ_act.extend(total_percentage_revenue_princ_act)\n",
    "\n",
    "# EXPORTS\n",
    "\n",
    "#array exports\n",
    "exports_princ_act=[exports_it,exports_consulting,exports_itconsulting,exports_manfin,exports_eng,exports_arch,exports_retail,exports_tourism,exports_entertainment,exports_health,exports_re,exports_transp,exports_mkt,exports_rd]\n",
    "\n",
    "# dividir por mil\n",
    "exports_princ_act[:] = [m / mil for m in exports_princ_act]\n",
    "\n",
    "#total dos exports\n",
    "total_exports_princ_act=sum(exports_princ_act)\n",
    "\n",
    "# exports dominance\n",
    "percentage_exports_princ_act=[n / total_exports_princ_act *100 for n in exports_princ_act]\n",
    "\n",
    "#total dos percentage\n",
    "total_percentage_exports_princ_act=sum(percentage_exports_princ_act)\n",
    "\n",
    "#appends\n",
    "#exports_princ_act=exports_princ_act.extend(total_exports_princ_act)\n",
    "#percentage_exports_princ_act=percentage_exports_princ_act.extend(total_percentage_exports_princ_act)\n",
    "\n",
    "# IMPORTS\n",
    "\n",
    "#array imports\n",
    "imports_princ_act=[imports_it,imports_consulting,imports_itconsulting,imports_manfin,imports_eng,imports_arch,imports_retail,imports_tourism,imports_entertainment,imports_health,imports_re,imports_transp,imports_mkt,imports_rd]\n",
    "\n",
    "# dividir por mil\n",
    "imports_princ_act[:] = [y / mil for y in imports_princ_act]\n",
    "\n",
    "#total dos imports\n",
    "total_imports_princ_act=sum(imports_princ_act)\n",
    "\n",
    "# import dominance\n",
    "percentage_imports_princ_act=[z / total_imports_princ_act *100 for z in imports_princ_act]\n",
    "\n",
    "#total dos percentage\n",
    "total_percentage_imports_princ_act=sum(percentage_imports_princ_act)\n",
    "\n",
    "#appends\n",
    "#imports_princ_act=imports_princ_act.extend(total_imports_princ_act)\n",
    "#percentage_imports_princ_act=percentage_imports_princ_act.extend(total_percentage_imports_princ_act)"
   ]
  },
  {
   "cell_type": "code",
   "execution_count": null,
   "metadata": {},
   "outputs": [],
   "source": [
    "df_princ_act=pd.DataFrame({'Companies (%)':percentage_princ_act,\n",
    "                            'Revenue (€1000s)':revenue_princ_act,\n",
    "                            'Market (Revenue) Dominance (%)':percentage_revenue_princ_act,\n",
    "                            'Exports (€1000s)':exports_princ_act,\n",
    "                            'Exports Dominance (%)':percentage_exports_princ_act,\n",
    "                            'Imports (€1000s)':imports_princ_act,\n",
    "                            'Imports Dominance (%)':percentage_imports_princ_act},\n",
    "                        index=['IT','Consulting','IT Consulting','Finance & Management','Engineering','Architecture','Retail','Tourism','Entertainment','Healthcare','Real Estate','Transports','Marketing','R&D'])\n",
    "df_princ_act.columns.names=['Activities']\n",
    "df_princ_act=round(df_princ_act,2)"
   ]
  },
  {
   "cell_type": "code",
   "execution_count": null,
   "metadata": {},
   "outputs": [],
   "source": [
    "df_princ_act"
   ]
  },
  {
   "cell_type": "code",
   "execution_count": null,
   "metadata": {},
   "outputs": [],
   "source": [
    "df_princ_act_total=pd.DataFrame({'Companies (%)':total_percentage_revenue_princ_act,\n",
    "                            'Revenue (€1000s)':total_revenue_princ_act,\n",
    "                            'Market (Revenue) Dominance (%)':total_percentage_revenue_princ_act,\n",
    "                            'Exports (€1000s)':total_exports_princ_act,\n",
    "                            'Exports Dominance (%)':total_percentage_exports_princ_act,\n",
    "                            'Imports (€1000s)':total_imports_princ_act,\n",
    "                            'Imports Dominance (%)':total_percentage_imports_princ_act},\n",
    "                             index=['Total'])\n",
    "df_princ_act=df_princ_act.append(df_princ_act_total)\n",
    "df_princ_act"
   ]
  },
  {
   "cell_type": "code",
   "execution_count": null,
   "metadata": {},
   "outputs": [],
   "source": []
  },
  {
   "source": [
    "# Number of Employees vs Technology Based Company in Revenue"
   ],
   "cell_type": "markdown",
   "metadata": {}
  },
  {
   "cell_type": "code",
   "execution_count": null,
   "metadata": {},
   "outputs": [],
   "source": [
    "# No tech\n",
    "onenine_notech=0\n",
    "tenfifty_notech=0\n",
    "fiftytwofifty_notech=0\n",
    "twofiftyplus_notech=0\n",
    "#non-ist tech\n",
    "onenine_nonisttech=0\n",
    "tenfifty_nonisttech=0\n",
    "fiftytwofifty_nonisttech=0\n",
    "twofiftyplus_nonisttech=0\n",
    "#ist tech\n",
    "onenine_isttech=0\n",
    "tenfifty_isttech=0\n",
    "fiftytwofifty_isttech=0\n",
    "twofiftyplus_isttech=0\n",
    "\n",
    "for a in range(len(df_comp)):\n",
    "\n",
    "#### No Tech\n",
    "    if df_comp['knowledge'][a]=='No Technology' and df_comp['employees'][a]=='1-9':\n",
    "        onenine_notech += df_comp['revenue'][a]\n",
    "\n",
    "    elif df_comp['knowledge'][a]=='No Technology' and df_comp['employees'][a]=='10-49':\n",
    "        tenfifty_notech += df_comp['revenue'][a]\n",
    "\n",
    "    elif df_comp['knowledge'][a]=='No Technology' and df_comp['employees'][a]=='50-249':\n",
    "        fiftytwofifty_notech += df_comp['revenue'][a]\n",
    "\n",
    "    elif df_comp['knowledge'][a]=='No Technology' and df_comp['employees'][a]=='250+':\n",
    "        twofiftyplus_notech += df_comp['revenue'][a]\n",
    "\n",
    "#### Non-IST Tech\n",
    "    elif df_comp['knowledge'][a]=='Outside Technological Knowledge' and df_comp['employees'][a]=='1-9':\n",
    "        onenine_nonisttech += df_comp['revenue'][a]\n",
    "\n",
    "    elif df_comp['knowledge'][a]=='Outside Technological Knowledge' and df_comp['employees'][a]=='10-49':\n",
    "        tenfifty_nonisttech += df_comp['revenue'][a]\n",
    "\n",
    "    elif df_comp['knowledge'][a]=='Outside Technological Knowledge' and df_comp['employees'][a]=='50-249':\n",
    "        fiftytwofifty_nonisttech += df_comp['revenue'][a]\n",
    "\n",
    "    elif df_comp['knowledge'][a]=='Outside Technological Knowledge' and df_comp['employees'][a]=='250+':\n",
    "        twofiftyplus_nonisttech += df_comp['revenue'][a]\n",
    "\n",
    "#### IST Tech\n",
    "    elif df_comp['knowledge'][a]=='Acquired-in-IST Technology Knowledge' and df_comp['employees'][a]=='1-9':\n",
    "        onenine_isttech += df_comp['revenue'][a]\n",
    "\n",
    "    elif df_comp['knowledge'][a]=='Acquired-in-IST Technology Knowledge' and df_comp['employees'][a]=='10-49':\n",
    "        tenfifty_isttech += df_comp['revenue'][a]\n",
    "\n",
    "    elif df_comp['knowledge'][a]=='Acquired-in-IST Technology Knowledge' and df_comp['employees'][a]=='50-249':\n",
    "        fiftytwofifty_isttech += df_comp['revenue'][a]\n",
    "\n",
    "    elif df_comp['knowledge'][a]=='Acquired-in-IST Technology Knowledge' and df_comp['employees'][a]=='250+':\n",
    "        twofiftyplus_isttech += df_comp['revenue'][a]\n",
    "\n",
    "#### totals\n",
    "total_notech = onenine_notech + tenfifty_notech + fiftytwofifty_notech + twofiftyplus_notech\n",
    "total_nonisttech = onenine_nonisttech + tenfifty_nonisttech + fiftytwofifty_nonisttech + twofiftyplus_nonisttech\n",
    "total_isttech = onenine_isttech + tenfifty_isttech + fiftytwofifty_isttech + twofiftyplus_isttech\n",
    "\n",
    "#### Percentages\n",
    "\n",
    "times_one=0\n",
    "times_ten=0\n",
    "times_fifty=0\n",
    "times_twofifty=0\n",
    "\n",
    "for i in df_comp['employees']:\n",
    "    if i=='1-9':\n",
    "        times_one+=1\n",
    "    elif i=='10-49':\n",
    "        times_ten+=1\n",
    "    elif i=='50-249':\n",
    "        times_fifty+=1\n",
    "    elif i=='250+':\n",
    "        times_twofifty+=1\n",
    "\n",
    "percentage_one=times_one/(times_one+times_ten+times_fifty+times_twofifty)*100\n",
    "percentage_ten=times_ten/(times_one+times_ten+times_fifty+times_twofifty)*100\n",
    "percentage_fifty=times_fifty/(times_one+times_ten+times_fifty+times_twofifty)*100\n",
    "percentage_twofifty=times_twofifty/(times_one+times_ten+times_fifty+times_twofifty)*100\n",
    "\n",
    "percentage_one=round(percentage_one,2)\n",
    "percentage_ten=round(percentage_ten,2)\n",
    "percentage_fifty=round(percentage_fifty,2)\n",
    "percentage_twofifty=round(percentage_twofifty,2)\n",
    "\n",
    "df_emptech=pd.DataFrame({'Companies (%)':[percentage_one,percentage_ten,percentage_fifty,percentage_twofifty,\n",
    "                            round(percentage_one+percentage_ten+percentage_fifty+percentage_twofifty,2)],\n",
    "                            'No Technology(€1000s)':[onenine_notech/1000,\n",
    "                                tenfifty_notech/1000,\n",
    "                                fiftytwofifty_notech/1000,\n",
    "                                twofiftyplus_notech/1000,\n",
    "                                total_notech/1000],\n",
    "                            'Outside Technological Knowledge(€1000s)':[onenine_nonisttech/1000,\n",
    "                                tenfifty_nonisttech/1000,\n",
    "                                fiftytwofifty_nonisttech/1000,\n",
    "                                twofiftyplus_nonisttech/1000,\n",
    "                                total_nonisttech/1000],\n",
    "                            'Acquired-in-IST Technology Knowledge(€1000s)':[onenine_isttech/1000,\n",
    "                                tenfifty_isttech/1000,\n",
    "                                fiftytwofifty_isttech/1000,\n",
    "                                twofiftyplus_isttech/1000,\n",
    "                                total_isttech/1000],\n",
    "                            'Total(€1000s)':[(onenine_notech + onenine_nonisttech + onenine_isttech)/1000,\n",
    "                                (tenfifty_notech + tenfifty_nonisttech + tenfifty_isttech)/1000,\n",
    "                                (fiftytwofifty_notech + fiftytwofifty_nonisttech + fiftytwofifty_isttech)/1000,\n",
    "                                (twofiftyplus_notech + twofiftyplus_nonisttech + twofiftyplus_isttech)/1000,\n",
    "                                (total_notech + total_nonisttech + total_isttech)/1000]},\n",
    "                            index=['1-9','10-49','50-249','250+','Total'])\n",
    "df_emptech.columns.names=['Number of Employees']\n",
    "df_emptech"
   ]
  },
  {
   "cell_type": "code",
   "execution_count": null,
   "metadata": {},
   "outputs": [],
   "source": [
    "df_comp['knowledge'].value_counts()"
   ]
  },
  {
   "source": [
    "# Evolução da criação de empresas"
   ],
   "cell_type": "markdown",
   "metadata": {}
  },
  {
   "cell_type": "code",
   "execution_count": null,
   "metadata": {},
   "outputs": [],
   "source": [
    "ano=df_comp['ano_fundacao'].value_counts()\n",
    "ano"
   ]
  },
  {
   "cell_type": "code",
   "execution_count": null,
   "metadata": {},
   "outputs": [],
   "source": [
    "ano=ano.sort_index()\n",
    "ano"
   ]
  },
  {
   "cell_type": "code",
   "execution_count": null,
   "metadata": {},
   "outputs": [],
   "source": [
    "total_evo_emp=ano.copy()\n",
    "total_evo_emp=total_evo_emp.reset_index(drop=True)\n",
    "for c in range(len(total_evo_emp)):\n",
    "    if c !=0:\n",
    "        total_evo_emp[c]=total_evo_emp[c]+total_evo_emp[c-1]\n",
    "total_evo_emp.index=ano.index\n",
    "\n",
    "plt.plot(total_evo_emp.index, total_evo_emp.values)\n",
    "plt.ylabel('Total Number of companies')\n",
    "plt.xlabel('Year')\n",
    "plt.show()"
   ]
  },
  {
   "cell_type": "code",
   "execution_count": null,
   "metadata": {},
   "outputs": [],
   "source": [
    "total_evo_emp"
   ]
  },
  {
   "source": [
    "# IST"
   ],
   "cell_type": "markdown",
   "metadata": {}
  },
  {
   "cell_type": "code",
   "execution_count": null,
   "metadata": {},
   "outputs": [],
   "source": [
    "df_ist.head()"
   ]
  },
  {
   "cell_type": "code",
   "execution_count": null,
   "metadata": {},
   "outputs": [],
   "source": [
    "times_yes_entre=0\n",
    "times_no_entre=0\n",
    "for i in df_ist['UC_empree']:\n",
    "    if i=='Yes':\n",
    "        times_yes_entre+=1\n",
    "    else:\n",
    "        times_no_entre+=1\n",
    "percentage_yes_entre=round(times_yes_entre/(times_yes_entre+times_no_entre)*100,2)\n",
    "percentage_no_entre=round(times_no_entre/(times_yes_entre+times_no_entre)*100,2)\n",
    "\n",
    "print('The percentage of entrepreneurs who registered in a curricular unit on Entrepreneursship is:',percentage_yes_entre)"
   ]
  },
  {
   "cell_type": "code",
   "execution_count": null,
   "metadata": {},
   "outputs": [],
   "source": [
    "#just to check\n",
    "times_yes_entre+times_no_entre"
   ]
  },
  {
   "cell_type": "code",
   "execution_count": null,
   "metadata": {},
   "outputs": [],
   "source": [
    "times_yes_entre_two=0\n",
    "times_no_entre_two=0\n",
    "for m in range(len(df_ist)):\n",
    "    for k in range(len(df_id)):\n",
    "        if df_ist['id_pessoa'][m]==df_id['id_pessoa'][k]:\n",
    "            if df_id['ano_conclusao'][k]>=2006 and df_ist['UC_empree'][m]=='Yes':\n",
    "                times_yes_entre_two+=1\n",
    "            elif df_id['ano_conclusao'][k]>=2006 and df_ist['UC_empree'][m]=='No':\n",
    "                times_no_entre_two+=1\n",
    "\n",
    "percentage_yes_entre_two=round(times_yes_entre_two/(times_yes_entre_two+times_no_entre_two)*100,2)\n",
    "percentage_no_entre_two=round(times_no_entre_two/(times_yes_entre_two+times_no_entre_two)*100,2)\n",
    "\n",
    "print('The percentage of entrepreneurs who graduated after 2006 and registered in a curricular unit on Entrepreneursship is:',percentage_yes_entre_two)"
   ]
  },
  {
   "source": [
    "# UC and IST Impact"
   ],
   "cell_type": "markdown",
   "metadata": {}
  },
  {
   "cell_type": "code",
   "execution_count": null,
   "metadata": {},
   "outputs": [],
   "source": [
    "df_ist['UC_impact'].describe()"
   ]
  },
  {
   "cell_type": "code",
   "execution_count": null,
   "metadata": {},
   "outputs": [],
   "source": [
    "df_ist['IST_impact'].describe()"
   ]
  },
  {
   "source": [
    "# Support"
   ],
   "cell_type": "markdown",
   "metadata": {}
  },
  {
   "cell_type": "code",
   "execution_count": null,
   "metadata": {},
   "outputs": [],
   "source": [
    "support=df_comp['apoios'].value_counts()\n",
    "support"
   ]
  },
  {
   "cell_type": "code",
   "execution_count": null,
   "metadata": {},
   "outputs": [],
   "source": [
    "percentage_support=round(support['Yes']/(support['Yes']+support['No'])*100,2)\n",
    "percentage_support"
   ]
  },
  {
   "cell_type": "code",
   "execution_count": null,
   "metadata": {},
   "outputs": [],
   "source": [
    "support_revenue=0\n",
    "support_year=[]\n",
    "no_support_revenue=0\n",
    "\n",
    "for i in range(len(df_comp)):\n",
    "    if df_comp['apoios'][i]=='Yes':\n",
    "        support_revenue+=df_comp['revenue'][i]\n",
    "        support_year=np.append(support_year,df_comp['ano_fundacao'][i])\n",
    "    elif df_comp['apoios'][i]=='No':\n",
    "        no_support_revenue+=df_comp['revenue'][i]\n",
    "\n",
    "avg_support_revenue=support_revenue/22\n",
    "avg_no_support_revenue=no_support_revenue/82\n",
    "\n",
    "round(avg_support_revenue,2),round(avg_no_support_revenue,2)\n"
   ]
  },
  {
   "cell_type": "code",
   "execution_count": null,
   "metadata": {},
   "outputs": [],
   "source": [
    "series_support_year=pd.Series(support_year)\n",
    "evo_support=series_support_year.value_counts()\n",
    "evo_support"
   ]
  },
  {
   "cell_type": "code",
   "execution_count": null,
   "metadata": {},
   "outputs": [],
   "source": [
    "evo_support=evo_support.sort_index()\n",
    "total_evo_sup=evo_support.copy()\n",
    "total_evo_sup=total_evo_sup.reset_index(drop=True)\n",
    "for c in range(len(total_evo_sup)):\n",
    "    if c !=0:\n",
    "        total_evo_sup[c]=total_evo_sup[c]+total_evo_sup[c-1]\n",
    "total_evo_sup.index=evo_support.index\n",
    "\n",
    "plt.plot(total_evo_sup.index, total_evo_sup.values)\n",
    "plt.ylabel('Total companies that had support')\n",
    "plt.xlabel('Year')\n",
    "plt.show()"
   ]
  },
  {
   "source": [
    "# Markets, Imports and Exports"
   ],
   "cell_type": "markdown",
   "metadata": {}
  },
  {
   "cell_type": "code",
   "execution_count": null,
   "metadata": {},
   "outputs": [],
   "source": [
    "markets_df=df_comp[['id_empresa','id_pessoa','ano_fundacao','princ_activity','market','foreign_market','revenue','imports','exports']].copy()\n",
    "markets_df['Curso']=''\n",
    "for m in range(len(markets_df)):\n",
    "    for d in range(len(df_id)):\n",
    "        if markets_df['id_pessoa'][m]==df_id['id_pessoa'][d]:\n",
    "            markets_df['Curso'][m]=df_id['Curso'][d]\n",
    "markets_df['foreign_market']=markets_df['foreign_market'].astype(str)"
   ]
  },
  {
   "cell_type": "code",
   "execution_count": null,
   "metadata": {},
   "outputs": [],
   "source": [
    "markets_df['market'].value_counts()"
   ]
  },
  {
   "cell_type": "code",
   "execution_count": null,
   "metadata": {},
   "outputs": [],
   "source": [
    "\n",
    "times_national=0\n",
    "times_foreign=0\n",
    "times_europe=0\n",
    "times_SCA=0\n",
    "times_NA=0\n",
    "times_PALOP=0\n",
    "times_asia=0\n",
    "times_africa=0\n",
    "times_oceania=0\n",
    "times_others=0\n",
    "\n",
    "revenues_national=0\n",
    "revenues_foreign=0\n",
    "revenues_europe=0\n",
    "revenues_SCA=0\n",
    "revenues_NA=0\n",
    "revenues_PALOP=0\n",
    "revenues_asia=0\n",
    "revenues_africa=0\n",
    "revenues_oceania=0\n",
    "revenues_others=0\n",
    "\n",
    "exports_national=0\n",
    "exports_foreign=0\n",
    "exports_europe=0\n",
    "exports_SCA=0\n",
    "exports_NA=0\n",
    "exports_PALOP=0\n",
    "exports_asia=0\n",
    "exports_africa=0\n",
    "exports_oceania=0\n",
    "exports_others=0\n",
    "\n",
    "imports_national=0\n",
    "imports_foreign=0\n",
    "\n",
    "for i in range(len(markets_df)):\n",
    "#foco nos mercados predominantes\n",
    "    if markets_df['market'][i]=='National':\n",
    "        times_national+=1\n",
    "        revenues_national+=markets_df['revenue'][i]\n",
    "        exports_national+=markets_df['exports'][i]\n",
    "        imports_national+=markets_df['imports'][i]\n",
    "\n",
    "    elif markets_df['market'][i]=='Foreign':\n",
    "        times_foreign+=1\n",
    "        revenues_foreign+=markets_df['revenue'][i]\n",
    "        exports_foreign+=markets_df['exports'][i]\n",
    "        imports_foreign+=markets_df['imports'][i]\n",
    "\n",
    "# foco nos mercados estrangeiros\n",
    "    if markets_df['foreign_market'][i].find('-')==-1: #só tem um mercado para o qual exporta\n",
    "\n",
    "        if markets_df['foreign_market'][i]=='Europe': #Europe\n",
    "            times_europe+=1\n",
    "            revenues_europe+=markets_df['revenue'][i]\n",
    "            exports_europe+=markets_df['exports'][i]        \n",
    "\n",
    "        elif markets_df['foreign_market'][i]=='South and Central America': #SCA\n",
    "            times_SCA+=1\n",
    "            revenues_SCA+=markets_df['revenue'][i]\n",
    "            exports_SCA+=markets_df['exports'][i]\n",
    "\n",
    "        elif markets_df['foreign_market'][i]=='North America': #NA\n",
    "            times_NA+=1\n",
    "            revenues_NA+=markets_df['revenue'][i]\n",
    "            exports_NA+=markets_df['exports'][i]\n",
    "\n",
    "        elif markets_df['foreign_market'][i]=='PALOP': #PALOP\n",
    "            times_PALOP+=1\n",
    "            revenues_PALOP+=markets_df['revenue'][i]\n",
    "            exports_PALOP+=markets_df['exports'][i]\n",
    "\n",
    "        elif markets_df['foreign_market'][i]=='Asia': #Asia\n",
    "            times_asia+=1\n",
    "            revenues_asia+=markets_df['revenue'][i]\n",
    "            exports_asia+=markets_df['exports'][i]\n",
    "\n",
    "        elif markets_df['foreign_market'][i]=='Africa': #Africa\n",
    "            times_africa+=1\n",
    "            revenues_africa+=markets_df['revenue'][i]\n",
    "            exports_africa+=markets_df['exports'][i]\n",
    "\n",
    "        elif markets_df['foreign_market'][i]=='Oceânia': #oceania\n",
    "            times_oceania+=1\n",
    "            revenues_oceania+=markets_df['revenue'][i]\n",
    "            exports_oceania+=markets_df['exports'][i]\n",
    "\n",
    "        else:                                              #no foreign market\n",
    "            times_others+=1\n",
    "            revenues_others+=markets_df['revenue'][i]\n",
    "            exports_others+=markets_df['exports'][i]\n",
    "\n",
    "    elif markets_df['foreign_market'][i].find('-')!=-1: #exporta para mais que um mercado\n",
    "\n",
    "        markets_array=markets_df['foreign_market'][i].split('-') # split the string into the different markets\n",
    "\n",
    "        for a in range(len(markets_array)):\n",
    "            if markets_array[a]=='Europe': #Europe\n",
    "                times_europe+=1\n",
    "                revenues_europe+=round(markets_df['revenue'][i]/len(markets_array),2)\n",
    "                exports_europe+=round(markets_df['exports'][i]/len(markets_array),2)\n",
    "\n",
    "            elif markets_array[a]=='South and Central America': #SCA\n",
    "                times_SCA+=1\n",
    "                revenues_SCA+=round(markets_df['revenue'][i]/len(markets_array),2)\n",
    "                exports_SCA+=round(markets_df['exports'][i]/len(markets_array),2)  \n",
    "\n",
    "            elif markets_array[a]=='North America': #NA\n",
    "                times_NA+=1\n",
    "                revenues_NA+=round(markets_df['revenue'][i]/len(markets_array),2)\n",
    "                exports_NA+=round(markets_df['exports'][i]/len(markets_array),2) \n",
    "\n",
    "            elif markets_array[a]=='Asia': #Asia\n",
    "                times_asia+=1\n",
    "                revenues_asia+=round(markets_df['revenue'][i]/len(markets_array),2)\n",
    "                exports_asia+=round(markets_df['exports'][i]/len(markets_array),2)\n",
    "\n",
    "            elif markets_array[a]=='Africa': #Africa\n",
    "                times_africa+=1\n",
    "                revenues_africa+=round(markets_df['revenue'][i]/len(markets_array),2)\n",
    "                exports_africa+=round(markets_df['exports'][i]/len(markets_array),2)"
   ]
  },
  {
   "cell_type": "code",
   "execution_count": null,
   "metadata": {},
   "outputs": [],
   "source": [
    "# Predominant market\n",
    "percentage_national=times_national/(times_national+times_foreign)*100\n",
    "percentage_foreign=times_foreign/(times_national+times_foreign)*100\n",
    "\n",
    "        # Market Dominance\n",
    "percentage_revenues_national=revenues_national/(revenues_national+revenues_foreign)*100\n",
    "percentage_revenues_foreign=revenues_foreign/(revenues_national+revenues_foreign)*100\n",
    "\n",
    "        # Exports dominance\n",
    "percentage_exports_national=exports_national/(exports_national+exports_foreign)*100\n",
    "percentage_exports_foreign=exports_foreign/(exports_national+exports_foreign)*100\n",
    "\n",
    "        # Imports dominance\n",
    "percentage_imports_national=imports_national/(imports_national+imports_foreign)*100\n",
    "percentage_imports_foreign=imports_foreign/(imports_national+imports_foreign)*100\n",
    "\n",
    "        # Totals\n",
    "total_predominant_market_percentage=percentage_national+percentage_foreign\n",
    "total_predominant_market_revenues=revenues_national+revenues_foreign\n",
    "total_predominant_market_dominance=percentage_revenues_national+percentage_revenues_foreign\n",
    "total_predominant_market_exports=exports_national+exports_foreign\n",
    "total_predominant_market_exports_dominance=percentage_exports_national+percentage_exports_foreign\n",
    "total_predominant_market_imports=imports_national+imports_foreign\n",
    "total_predominant_market_imports_dominance=percentage_imports_national+percentage_imports_foreign\n",
    "\n",
    "# Foreign market\n",
    "percentage_europe=times_europe/(times_europe+times_SCA+times_NA+times_PALOP+times_asia+times_africa+times_oceania+times_others)*100\n",
    "percentage_SCA=times_SCA/(times_europe+times_SCA+times_NA+times_PALOP+times_asia+times_africa+times_oceania+times_others)*100\n",
    "percentage_NA=times_NA/(times_europe+times_SCA+times_NA+times_PALOP+times_asia+times_africa+times_oceania+times_others)*100\n",
    "percentage_PALOP=times_PALOP/(times_europe+times_SCA+times_NA+times_PALOP+times_asia+times_africa+times_oceania+times_others)*100\n",
    "percentage_asia=times_asia/(times_europe+times_SCA+times_NA+times_PALOP+times_asia+times_africa+times_oceania+times_others)*100\n",
    "percentage_africa=times_africa/(times_europe+times_SCA+times_NA+times_PALOP+times_asia+times_africa+times_oceania+times_others)*100\n",
    "percentage_oceania=times_oceania/(times_europe+times_SCA+times_NA+times_PALOP+times_asia+times_africa+times_oceania+times_others)*100\n",
    "percentage_others=times_others/(times_europe+times_SCA+times_NA+times_PALOP+times_asia+times_africa+times_oceania+times_others)*100\n",
    "\n",
    "        # Market Dominance\n",
    "percentage_revenues_europe=revenues_europe/(revenues_europe+revenues_SCA+revenues_NA+revenues_PALOP+revenues_asia+revenues_africa+revenues_oceania+revenues_others)*100\n",
    "percentage_revenues_SCA=revenues_SCA/(revenues_europe+revenues_SCA+revenues_NA+revenues_PALOP+revenues_asia+revenues_africa+revenues_oceania+revenues_others)*100\n",
    "percentage_revenues_NA=revenues_NA/(revenues_europe+revenues_SCA+revenues_NA+revenues_PALOP+revenues_asia+revenues_africa+revenues_oceania+revenues_others)*100\n",
    "percentage_revenues_PALOP=revenues_PALOP/(revenues_europe+revenues_SCA+revenues_NA+revenues_PALOP+revenues_asia+revenues_africa+revenues_oceania+revenues_others)*100\n",
    "percentage_revenues_asia=revenues_asia/(revenues_europe+revenues_SCA+revenues_NA+revenues_PALOP+revenues_asia+revenues_africa+revenues_oceania+revenues_others)*100\n",
    "percentage_revenues_africa=revenues_africa/(revenues_europe+revenues_SCA+revenues_NA+revenues_PALOP+revenues_asia+revenues_africa+revenues_oceania+revenues_others)*100\n",
    "percentage_revenues_oceania=revenues_oceania/(revenues_europe+revenues_SCA+revenues_NA+revenues_PALOP+revenues_asia+revenues_africa+revenues_oceania+revenues_others)*100\n",
    "percentage_revenues_others=revenues_others/(revenues_europe+revenues_SCA+revenues_NA+revenues_PALOP+revenues_asia+revenues_africa+revenues_oceania+revenues_others)*100\n",
    "\n",
    "        #Exports Dominance\n",
    "percentage_exports_europe=exports_europe/(exports_europe+exports_SCA+exports_NA+exports_PALOP+exports_asia+exports_africa+exports_oceania+exports_others)*100\n",
    "percentage_exports_SCA=exports_SCA/(exports_europe+exports_SCA+exports_NA+exports_PALOP+exports_asia+exports_africa+exports_oceania+exports_others)*100\n",
    "percentage_exports_NA=exports_NA/(exports_europe+exports_SCA+exports_NA+exports_PALOP+exports_asia+exports_africa+exports_oceania+exports_others)*100\n",
    "percentage_exports_PALOP=exports_PALOP/(exports_europe+exports_SCA+exports_NA+exports_PALOP+exports_asia+exports_africa+exports_oceania+exports_others)*100\n",
    "percentage_exports_asia=exports_asia/(exports_europe+exports_SCA+exports_NA+exports_PALOP+exports_asia+exports_africa+exports_oceania+exports_others)*100\n",
    "percentage_exports_africa=exports_africa/(exports_europe+exports_SCA+exports_NA+exports_PALOP+exports_asia+exports_africa+exports_oceania+exports_others)*100\n",
    "percentage_exports_oceania=exports_oceania/(exports_europe+exports_SCA+exports_NA+exports_PALOP+exports_asia+exports_africa+exports_oceania+exports_others)*100\n",
    "percentage_exports_others=exports_others/(exports_europe+exports_SCA+exports_NA+exports_PALOP+exports_asia+exports_africa+exports_oceania+exports_others)*100\n",
    "        #Totals\n",
    "total_foreign_market_percentage=percentage_europe+percentage_SCA+percentage_NA+percentage_PALOP+percentage_asia+percentage_africa+percentage_oceania+percentage_others\n",
    "total_foreign_market_revenue=revenues_europe+revenues_SCA+revenues_NA+revenues_PALOP+revenues_asia+revenues_africa+revenues_oceania+revenues_others\n",
    "total_foreign_market_dominance=percentage_revenues_europe+percentage_revenues_SCA+percentage_revenues_NA+percentage_revenues_PALOP+percentage_revenues_asia+percentage_revenues_africa+percentage_revenues_oceania+percentage_revenues_others\n",
    "total_foreign_market_exports=exports_europe+exports_SCA+exports_NA+exports_PALOP+exports_asia+exports_africa+exports_oceania+exports_others\n",
    "total_foreign_market_exports_dominance=percentage_exports_europe+percentage_exports_SCA+percentage_exports_NA+percentage_exports_PALOP+percentage_exports_asia+percentage_exports_africa+percentage_exports_oceania+percentage_exports_others"
   ]
  },
  {
   "cell_type": "code",
   "execution_count": null,
   "metadata": {},
   "outputs": [],
   "source": [
    "marketframe=pd.DataFrame({'National Market':[percentage_national,revenues_national/1000,percentage_revenues_national,exports_national/1000,percentage_exports_national],\n",
    "                            'Foreign Markets':[percentage_foreign,revenues_foreign/1000,percentage_revenues_foreign,exports_foreign/1000,percentage_exports_foreign],\n",
    "                            'Total':[total_predominant_market_percentage,total_predominant_market_revenues/1000, total_predominant_market_dominance,\n",
    "                            total_predominant_market_exports/1000,total_predominant_market_exports_dominance],\n",
    "                            'Africa':[percentage_africa,revenues_africa/1000,percentage_revenues_africa,exports_africa/1000,percentage_exports_africa],\n",
    "                            'Asia':[percentage_asia,revenues_asia/1000,percentage_revenues_asia,exports_asia/1000,percentage_exports_asia],\n",
    "                            'Europe':[percentage_europe,revenues_europe/1000,percentage_revenues_europe,exports_europe/1000,percentage_exports_europe],\n",
    "                            'North America':[percentage_NA,revenues_NA/1000,percentage_revenues_NA,exports_NA/1000,percentage_exports_NA],\n",
    "                            'South and Central America':[percentage_SCA,revenues_SCA/1000,percentage_revenues_SCA,exports_SCA/1000,percentage_exports_SCA],\n",
    "                            'Oceania':[percentage_oceania,revenues_oceania/1000,percentage_revenues_oceania,exports_oceania/1000,percentage_exports_oceania],\n",
    "                            'PALOP':[percentage_PALOP,revenues_PALOP/1000,percentage_revenues_PALOP,exports_PALOP/1000,percentage_exports_PALOP],\n",
    "                            'No Foreign Market':[percentage_others,revenues_others/1000,percentage_revenues_others,exports_others/1000,percentage_exports_others],\n",
    "                            'Total Foreign Markets':[total_foreign_market_percentage,total_foreign_market_revenue/1000,total_foreign_market_dominance,total_foreign_market_exports/1000,total_foreign_market_exports_dominance]},\n",
    "                            index=['Companies in the Market (%)','Revenues (€1000s)','Market Dominance (% Revenues)','Exports (€1000s)','Exports Dominance (%)'])\n"
   ]
  },
  {
   "cell_type": "code",
   "execution_count": null,
   "metadata": {},
   "outputs": [],
   "source": [
    "marketframeT=marketframe.T\n",
    "marketframeT"
   ]
  },
  {
   "cell_type": "code",
   "execution_count": null,
   "metadata": {},
   "outputs": [],
   "source": [
    "marketframeT.columns.names=['Markets']\n",
    "marketframeT['Imports (€1000s)']=[imports_national/1000,imports_foreign/1000,total_predominant_market_imports/1000,'','','','','','','','','']\n",
    "marketframeT['Imports Dominance (%)']=[percentage_imports_national,percentage_imports_foreign,total_predominant_market_imports_dominance,'','','','','','','','','']\n",
    "marketframeT=round(marketframeT,2)\n",
    "marketframeT"
   ]
  },
  {
   "cell_type": "code",
   "execution_count": null,
   "metadata": {},
   "outputs": [],
   "source": [
    "image_predominant_markets_df=marketframeT.loc[['National Market','Foreign Markets'],['Companies in the Market (%)','Market Dominance (% Revenues)','Exports Dominance (%)','Imports Dominance (%)']]\n",
    "image_predominant_markets_df"
   ]
  },
  {
   "cell_type": "code",
   "execution_count": null,
   "metadata": {},
   "outputs": [],
   "source": [
    "image_foreign_markets_df=marketframeT.loc[['Africa','Asia','Europe','North America','South and Central America','Oceania','PALOP','No Foreign Market'],['Companies in the Market (%)','Market Dominance (% Revenues)','Exports Dominance (%)']]\n",
    "image_foreign_markets_df"
   ]
  },
  {
   "cell_type": "code",
   "execution_count": null,
   "metadata": {},
   "outputs": [],
   "source": []
  }
 ]
}
